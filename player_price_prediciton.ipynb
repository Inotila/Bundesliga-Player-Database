{
 "cells": [
  {
   "cell_type": "code",
   "execution_count": 1,
   "id": "0e4a734f-6cdb-483f-89a7-32a7216bf588",
   "metadata": {},
   "outputs": [
    {
     "name": "stdout",
     "output_type": "stream",
     "text": [
      "   Unnamed: 0              name           full_name  age  height  nationality  \\\n",
      "0           0      Manuel Neuer  Manuel Peter Neuer   37    1.93      Germany   \n",
      "1           1       Yann Sommer                 NaN   34    1.83  Switzerland   \n",
      "2           2      Sven Ulreich                 NaN   34    1.92      Germany   \n",
      "3           3   Johannes Schenk                 NaN   20    1.91      Germany   \n",
      "4           4  Matthijs de Ligt                 NaN   23    1.89  Netherlands   \n",
      "\n",
      "  place_of_birth  price  max_price                position  shirt_nr   foot  \\\n",
      "0  Gelsenkirchen    7.0       45.0              Goalkeeper         1  right   \n",
      "1         Morges    5.0       13.0              Goalkeeper        27  right   \n",
      "2     Schorndorf    0.9        6.0              Goalkeeper        26  right   \n",
      "3    Schweinfurt    0.3        0.3              Goalkeeper        35    NaN   \n",
      "4     Leiderdorp   75.0       75.0  Defender - Centre-Back         4  right   \n",
      "\n",
      "            club contract_expires joined_club             player_agent  \\\n",
      "0  Bayern Munich       2024-06-30  2011-07-01          PRO Profil GmbH   \n",
      "1  Bayern Munich       2025-06-30  2023-01-19                Relatives   \n",
      "2  Bayern Munich       2024-06-30  2021-07-01  BMS Sportconsulting ...   \n",
      "3  Bayern Munich       2024-06-30  2022-07-01                   11WINS   \n",
      "4  Bayern Munich       2027-06-30  2022-07-19          Rafaela Pimenta   \n",
      "\n",
      "  outfitter  \n",
      "0    adidas  \n",
      "1      Puma  \n",
      "2    adidas  \n",
      "3       NaN  \n",
      "4    adidas  \n",
      "<class 'pandas.core.frame.DataFrame'>\n",
      "RangeIndex: 515 entries, 0 to 514\n",
      "Data columns (total 17 columns):\n",
      " #   Column            Non-Null Count  Dtype  \n",
      "---  ------            --------------  -----  \n",
      " 0   Unnamed: 0        515 non-null    int64  \n",
      " 1   name              515 non-null    object \n",
      " 2   full_name         229 non-null    object \n",
      " 3   age               515 non-null    int64  \n",
      " 4   height            515 non-null    float64\n",
      " 5   nationality       515 non-null    object \n",
      " 6   place_of_birth    510 non-null    object \n",
      " 7   price             510 non-null    float64\n",
      " 8   max_price         510 non-null    float64\n",
      " 9   position          515 non-null    object \n",
      " 10  shirt_nr          515 non-null    int64  \n",
      " 11  foot              506 non-null    object \n",
      " 12  club              515 non-null    object \n",
      " 13  contract_expires  481 non-null    object \n",
      " 14  joined_club       515 non-null    object \n",
      " 15  player_agent      488 non-null    object \n",
      " 16  outfitter         193 non-null    object \n",
      "dtypes: float64(3), int64(3), object(11)\n",
      "memory usage: 68.5+ KB\n",
      "None\n"
     ]
    }
   ],
   "source": [
    "import numpy as np\n",
    "import pandas as pd\n",
    "import matplotlib.pyplot as plt\n",
    "import seaborn as sns\n",
    "from sklearn.model_selection import train_test_split, GridSearchCV\n",
    "from sklearn.linear_model import LinearRegression\n",
    "from sklearn.ensemble import RandomForestRegressor, GradientBoostingRegressor\n",
    "from sklearn.metrics import mean_absolute_error, mean_squared_error\n",
    "\n",
    "# Load the dataset\n",
    "file_path = 'bundesliga_player.csv'\n",
    "data = pd.read_csv(file_path)\n",
    "\n",
    "# Display the first few rows and check basic information\n",
    "print(data.head())\n",
    "print(data.info())\n"
   ]
  },
  {
   "cell_type": "markdown",
   "id": "0c92cebb",
   "metadata": {},
   "source": []
  },
  {
   "cell_type": "code",
   "execution_count": null,
   "id": "0fcb2265-f48e-466e-8d17-7230f0a14da4",
   "metadata": {},
   "outputs": [],
   "source": []
  }
 ],
 "metadata": {
  "kernelspec": {
   "display_name": "Python 3 (ipykernel)",
   "language": "python",
   "name": "python3"
  },
  "language_info": {
   "codemirror_mode": {
    "name": "ipython",
    "version": 3
   },
   "file_extension": ".py",
   "mimetype": "text/x-python",
   "name": "python",
   "nbconvert_exporter": "python",
   "pygments_lexer": "ipython3",
   "version": "3.9.6"
  }
 },
 "nbformat": 4,
 "nbformat_minor": 5
}
